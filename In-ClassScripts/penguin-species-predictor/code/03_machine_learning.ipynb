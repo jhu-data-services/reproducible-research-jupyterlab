{
 "cells": [
  {
   "cell_type": "markdown",
   "id": "c0a5163d-3f2e-42e1-8531-c21cd698d477",
   "metadata": {
    "tags": []
   },
   "source": [
    "# Machine Learning\n",
    "\n",
    "Develop a decision tree classifier to predict the species of a penguin given the penguins:\n",
    "- Bill Length\n",
    "- Flipper Length\n",
    "- Body Mass"
   ]
  },
  {
   "cell_type": "markdown",
   "id": "5ccf40b4-eedc-4717-818c-3882fcf2eeb7",
   "metadata": {},
   "source": [
    "## Import the necessary data (`pandas`) and machine learning (`sklearn`) libraries"
   ]
  },
  {
   "cell_type": "code",
   "execution_count": 49,
   "id": "43e64708-3cdd-4486-9882-98b67c209296",
   "metadata": {
    "tags": []
   },
   "outputs": [],
   "source": [
    "import pandas as pd\n",
    "from sklearn.model_selection import train_test_split\n",
    "from sklearn.pipeline import FeatureUnion, make_pipeline\n",
    "from sklearn.metrics import confusion_matrix\n",
    "### To deal with missing values\n",
    "from sklearn.experimental import enable_iterative_imputer\n",
    "from sklearn.impute import IterativeImputer\n",
    "from sklearn.tree import DecisionTreeClassifier"
   ]
  },
  {
   "cell_type": "markdown",
   "id": "cc6f3a9d-3279-4703-a996-427d790c8160",
   "metadata": {
    "tags": []
   },
   "source": [
    "## Load the cleaned penguins data and create a training/testing data split"
   ]
  },
  {
   "cell_type": "code",
   "execution_count": 44,
   "id": "ddd24c9d-4b03-4a25-832d-b184d8451cf6",
   "metadata": {
    "tags": []
   },
   "outputs": [],
   "source": [
    "# Load penguins cleaned data\n",
    "penguins = pd.read_csv(\"../data/cleaned/penguins_cleaned.csv\")\n",
    "penguins.head()\n",
    "\n",
    "\n",
    "# Split data into features and labels\n",
    "X = penguins.loc[:,[\"bill_length_mm\", \"flipper_length_mm\", \"body_mass_g\"]]\n",
    "y = penguins.loc[:,[\"species\"]]\n",
    "\n",
    "# Create training/testing split\n",
    "X_train, X_test, y_train, y_test = train_test_split(X, y, test_size=100,\n",
    "                                            random_state=0)"
   ]
  },
  {
   "cell_type": "markdown",
   "id": "98bd8af5-e75b-4c98-afc0-5732954d26fd",
   "metadata": {},
   "source": [
    "## Impute missing values"
   ]
  },
  {
   "cell_type": "code",
   "execution_count": 45,
   "id": "65230f47-a33b-44c9-a59b-71b788bc0ed5",
   "metadata": {
    "tags": []
   },
   "outputs": [],
   "source": [
    "# impute values for missing features\n",
    "imp = IterativeImputer(max_iter=10, random_state=0)"
   ]
  },
  {
   "cell_type": "markdown",
   "id": "a307d185-a719-44ba-a087-0be4efac3ad0",
   "metadata": {},
   "source": [
    "## Train decision tree classifier"
   ]
  },
  {
   "cell_type": "code",
   "execution_count": null,
   "id": "afa55c96-a5f3-4f3d-b69d-6b554739a84c",
   "metadata": {},
   "outputs": [],
   "source": [
    "# Create a pipeline of estimators w/ imputer and decision tree classifier\n",
    "clf = make_pipeline(imp, DecisionTreeClassifier())\n",
    "clf = clf.fit(X_train, y_train)\n",
    "\n",
    "# Test the trained model using test set\n",
    "y_pred = clf.predict(X_test)"
   ]
  },
  {
   "cell_type": "markdown",
   "id": "ec7e37f0-9873-48fa-bc07-225584733553",
   "metadata": {},
   "source": [
    "## Print the classifier results\n",
    "\n",
    "### Confusion matrix"
   ]
  },
  {
   "cell_type": "code",
   "execution_count": 51,
   "id": "8398208c-a26e-4bb1-ac9c-69a4a9db6e38",
   "metadata": {
    "tags": []
   },
   "outputs": [
    {
     "data": {
      "text/html": [
       "<div>\n",
       "<style scoped>\n",
       "    .dataframe tbody tr th:only-of-type {\n",
       "        vertical-align: middle;\n",
       "    }\n",
       "\n",
       "    .dataframe tbody tr th {\n",
       "        vertical-align: top;\n",
       "    }\n",
       "\n",
       "    .dataframe thead th {\n",
       "        text-align: right;\n",
       "    }\n",
       "</style>\n",
       "<table border=\"1\" class=\"dataframe\">\n",
       "  <thead>\n",
       "    <tr style=\"text-align: right;\">\n",
       "      <th></th>\n",
       "      <th>Adelie</th>\n",
       "      <th>Chinstrap</th>\n",
       "      <th>Gentoo</th>\n",
       "    </tr>\n",
       "  </thead>\n",
       "  <tbody>\n",
       "    <tr>\n",
       "      <th>Adelie</th>\n",
       "      <td>47</td>\n",
       "      <td>1</td>\n",
       "      <td>0</td>\n",
       "    </tr>\n",
       "    <tr>\n",
       "      <th>Chinstrap</th>\n",
       "      <td>1</td>\n",
       "      <td>13</td>\n",
       "      <td>2</td>\n",
       "    </tr>\n",
       "    <tr>\n",
       "      <th>Gentoo</th>\n",
       "      <td>2</td>\n",
       "      <td>0</td>\n",
       "      <td>34</td>\n",
       "    </tr>\n",
       "  </tbody>\n",
       "</table>\n",
       "</div>"
      ],
      "text/plain": [
       "           Adelie  Chinstrap  Gentoo\n",
       "Adelie         47          1       0\n",
       "Chinstrap       1         13       2\n",
       "Gentoo          2          0      34"
      ]
     },
     "execution_count": 51,
     "metadata": {},
     "output_type": "execute_result"
    }
   ],
   "source": [
    "pd.DataFrame(\n",
    "    confusion_matrix(y_test, y_pred, labels=['Adelie','Chinstrap','Gentoo']),\n",
    "    index=['Adelie','Chinstrap','Gentoo'], \n",
    "    columns=['Adelie','Chinstrap','Gentoo'])"
   ]
  },
  {
   "cell_type": "markdown",
   "id": "3df73b29-8066-4caa-bad0-3fbb5317818c",
   "metadata": {},
   "source": [
    "### Classifier score"
   ]
  },
  {
   "cell_type": "code",
   "execution_count": 52,
   "id": "e99c644a-7df4-43db-999b-36d9654fa73f",
   "metadata": {
    "tags": []
   },
   "outputs": [
    {
     "name": "stdout",
     "output_type": "stream",
     "text": [
      "0.94\n"
     ]
    }
   ],
   "source": [
    "print(clf.score(X_test,y_test))"
   ]
  }
 ],
 "metadata": {
  "kernelspec": {
   "display_name": "Python 3 (ipykernel)",
   "language": "python",
   "name": "python3"
  },
  "language_info": {
   "codemirror_mode": {
    "name": "ipython",
    "version": 3
   },
   "file_extension": ".py",
   "mimetype": "text/x-python",
   "name": "python",
   "nbconvert_exporter": "python",
   "pygments_lexer": "ipython3",
   "version": "3.11.5"
  },
  "toc-autonumbering": false,
  "toc-showcode": false,
  "toc-showmarkdowntxt": false
 },
 "nbformat": 4,
 "nbformat_minor": 5
}
