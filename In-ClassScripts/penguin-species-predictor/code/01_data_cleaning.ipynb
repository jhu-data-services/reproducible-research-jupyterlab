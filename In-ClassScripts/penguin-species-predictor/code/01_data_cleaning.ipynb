{
 "cells": [
  {
   "cell_type": "markdown",
   "id": "3b372411-6234-449b-a566-6a3c1798e4f6",
   "metadata": {
    "tags": []
   },
   "source": [
    "# Data Cleaning\n",
    "Ingest the raw `penguins_Iter.csv` datafile and prepare it for further analysis.\n",
    "\n",
    "`penguins_Iter.csv` include: size measurements, clutch observations, and blood isotope ratios for 344 adult foraging Adélie, Chinstrap, and Gentoo penguins observed on islands in the Palmer Archipelago near Palmer Station, Antarctica. Data were collected and made available by Dr. Kristen Gorman and the Palmer Station, Antarctica Long Term Ecological Research (LTER) Program.\n",
    "\n",
    "**Gorman KB, Williams TD, Fraser WR** (2014) Ecological Sexual Dimorphism and Environmental Variability within a Community of Antarctic Penguins (Genus Pygoscelis). PLoS ONE 9(3): e90081. https://doi.org/10.1371/journal.pone.0090081"
   ]
  },
  {
   "cell_type": "markdown",
   "id": "fc90546d-e759-47e8-9de1-e1b487d02c56",
   "metadata": {
    "tags": []
   },
   "source": [
    "## Subset Data"
   ]
  },
  {
   "cell_type": "code",
   "execution_count": 99,
   "id": "b74466e8-0d20-4bec-8cde-7f51bf4bc977",
   "metadata": {
    "tags": []
   },
   "outputs": [
    {
     "data": {
      "text/html": [
       "<div>\n",
       "<style scoped>\n",
       "    .dataframe tbody tr th:only-of-type {\n",
       "        vertical-align: middle;\n",
       "    }\n",
       "\n",
       "    .dataframe tbody tr th {\n",
       "        vertical-align: top;\n",
       "    }\n",
       "\n",
       "    .dataframe thead th {\n",
       "        text-align: right;\n",
       "    }\n",
       "</style>\n",
       "<table border=\"1\" class=\"dataframe\">\n",
       "  <thead>\n",
       "    <tr style=\"text-align: right;\">\n",
       "      <th></th>\n",
       "      <th>Species</th>\n",
       "      <th>Island</th>\n",
       "      <th>Flipper Length (mm)</th>\n",
       "      <th>Culmen Length (mm)</th>\n",
       "      <th>Culmen Depth (mm)</th>\n",
       "      <th>Body Mass (g)</th>\n",
       "      <th>Sex</th>\n",
       "    </tr>\n",
       "  </thead>\n",
       "  <tbody>\n",
       "    <tr>\n",
       "      <th>0</th>\n",
       "      <td>Adelie Penguin (Pygoscelis adeliae)</td>\n",
       "      <td>Torgersen</td>\n",
       "      <td>181.0</td>\n",
       "      <td>39.1</td>\n",
       "      <td>18.7</td>\n",
       "      <td>3750.0</td>\n",
       "      <td>MALE</td>\n",
       "    </tr>\n",
       "    <tr>\n",
       "      <th>1</th>\n",
       "      <td>Adelie Penguin (Pygoscelis adeliae)</td>\n",
       "      <td>Torgersen</td>\n",
       "      <td>186.0</td>\n",
       "      <td>39.5</td>\n",
       "      <td>17.4</td>\n",
       "      <td>3800.0</td>\n",
       "      <td>FEMALE</td>\n",
       "    </tr>\n",
       "    <tr>\n",
       "      <th>2</th>\n",
       "      <td>Adelie Penguin (Pygoscelis adeliae)</td>\n",
       "      <td>Torgersen</td>\n",
       "      <td>195.0</td>\n",
       "      <td>40.3</td>\n",
       "      <td>18.0</td>\n",
       "      <td>3250.0</td>\n",
       "      <td>FEMALE</td>\n",
       "    </tr>\n",
       "    <tr>\n",
       "      <th>3</th>\n",
       "      <td>Adelie Penguin (Pygoscelis adeliae)</td>\n",
       "      <td>Torgersen</td>\n",
       "      <td>NaN</td>\n",
       "      <td>NaN</td>\n",
       "      <td>NaN</td>\n",
       "      <td>NaN</td>\n",
       "      <td>NaN</td>\n",
       "    </tr>\n",
       "    <tr>\n",
       "      <th>4</th>\n",
       "      <td>Adelie Penguin (Pygoscelis adeliae)</td>\n",
       "      <td>Torgersen</td>\n",
       "      <td>193.0</td>\n",
       "      <td>36.7</td>\n",
       "      <td>19.3</td>\n",
       "      <td>3450.0</td>\n",
       "      <td>FEMALE</td>\n",
       "    </tr>\n",
       "  </tbody>\n",
       "</table>\n",
       "</div>"
      ],
      "text/plain": [
       "                               Species     Island  Flipper Length (mm)  \\\n",
       "0  Adelie Penguin (Pygoscelis adeliae)  Torgersen                181.0   \n",
       "1  Adelie Penguin (Pygoscelis adeliae)  Torgersen                186.0   \n",
       "2  Adelie Penguin (Pygoscelis adeliae)  Torgersen                195.0   \n",
       "3  Adelie Penguin (Pygoscelis adeliae)  Torgersen                  NaN   \n",
       "4  Adelie Penguin (Pygoscelis adeliae)  Torgersen                193.0   \n",
       "\n",
       "   Culmen Length (mm)  Culmen Depth (mm)  Body Mass (g)     Sex  \n",
       "0                39.1               18.7         3750.0    MALE  \n",
       "1                39.5               17.4         3800.0  FEMALE  \n",
       "2                40.3               18.0         3250.0  FEMALE  \n",
       "3                 NaN                NaN            NaN     NaN  \n",
       "4                36.7               19.3         3450.0  FEMALE  "
      ]
     },
     "execution_count": 99,
     "metadata": {},
     "output_type": "execute_result"
    }
   ],
   "source": [
    "import pandas as pd\n",
    "raw_penguins_df = pd.read_csv(\"../data/raw/penguins_lter.csv\")\n",
    "variables_to_keep = [\"Species\", \n",
    "                     \"Island\", \n",
    "                     \"Flipper Length (mm)\",\n",
    "                     \"Culmen Length (mm)\",\n",
    "                     \"Culmen Depth (mm)\",\n",
    "                     \"Body Mass (g)\", \n",
    "                     \"Sex\"]\n",
    "penguins_df = raw_penguins_df[variables_to_keep]\n",
    "penguins_df.head()"
   ]
  },
  {
   "cell_type": "markdown",
   "id": "9a874f2e-c57f-4d67-bd7f-72a5ac384c2c",
   "metadata": {
    "tags": []
   },
   "source": [
    "## Standardize Variable Names"
   ]
  },
  {
   "cell_type": "code",
   "execution_count": null,
   "id": "98b4a0f0-a1b3-4352-a62e-3b86b59bedae",
   "metadata": {
    "tags": []
   },
   "outputs": [],
   "source": [
    "penguins_df.rename(columns = {'Species':'species', \n",
    "                              'Island':'island', \n",
    "                              'Flipper Length (mm)':'flipper_length_mm',\n",
    "                              'Culmen Length (mm)':'bill_length_mm',\n",
    "                              'Culmen Depth (mm)':'bill_depth_mm',\n",
    "                              'Body Mass (g)':'body_mass_g',\n",
    "                              'Sex':'sex'},inplace=True)\n",
    "penguins_df.head()"
   ]
  },
  {
   "cell_type": "markdown",
   "id": "37c4c0fa-f43c-4e55-8575-a4a55892ac94",
   "metadata": {
    "tags": []
   },
   "source": [
    "## Rename Species\n",
    "Rename species from scientific name to common name, for example `Adelie Penguin (Pygoscelis adeliae)` is renamed to `Adelie`.\n"
   ]
  },
  {
   "cell_type": "code",
   "execution_count": 101,
   "id": "9a4cb1bd-0720-4afe-ae16-14c74264b242",
   "metadata": {
    "tags": []
   },
   "outputs": [
    {
     "data": {
      "text/html": [
       "<div>\n",
       "<style scoped>\n",
       "    .dataframe tbody tr th:only-of-type {\n",
       "        vertical-align: middle;\n",
       "    }\n",
       "\n",
       "    .dataframe tbody tr th {\n",
       "        vertical-align: top;\n",
       "    }\n",
       "\n",
       "    .dataframe thead th {\n",
       "        text-align: right;\n",
       "    }\n",
       "</style>\n",
       "<table border=\"1\" class=\"dataframe\">\n",
       "  <thead>\n",
       "    <tr style=\"text-align: right;\">\n",
       "      <th></th>\n",
       "      <th>species</th>\n",
       "      <th>island</th>\n",
       "      <th>flipper_length_mm</th>\n",
       "      <th>bill_length_mm</th>\n",
       "      <th>bill_depth_mm</th>\n",
       "      <th>body_mass_g</th>\n",
       "      <th>sex</th>\n",
       "    </tr>\n",
       "  </thead>\n",
       "  <tbody>\n",
       "    <tr>\n",
       "      <th>0</th>\n",
       "      <td>Adelie</td>\n",
       "      <td>Torgersen</td>\n",
       "      <td>181.0</td>\n",
       "      <td>39.1</td>\n",
       "      <td>18.7</td>\n",
       "      <td>3750.0</td>\n",
       "      <td>MALE</td>\n",
       "    </tr>\n",
       "    <tr>\n",
       "      <th>1</th>\n",
       "      <td>Adelie</td>\n",
       "      <td>Torgersen</td>\n",
       "      <td>186.0</td>\n",
       "      <td>39.5</td>\n",
       "      <td>17.4</td>\n",
       "      <td>3800.0</td>\n",
       "      <td>FEMALE</td>\n",
       "    </tr>\n",
       "    <tr>\n",
       "      <th>2</th>\n",
       "      <td>Adelie</td>\n",
       "      <td>Torgersen</td>\n",
       "      <td>195.0</td>\n",
       "      <td>40.3</td>\n",
       "      <td>18.0</td>\n",
       "      <td>3250.0</td>\n",
       "      <td>FEMALE</td>\n",
       "    </tr>\n",
       "    <tr>\n",
       "      <th>3</th>\n",
       "      <td>Adelie</td>\n",
       "      <td>Torgersen</td>\n",
       "      <td>NaN</td>\n",
       "      <td>NaN</td>\n",
       "      <td>NaN</td>\n",
       "      <td>NaN</td>\n",
       "      <td>NaN</td>\n",
       "    </tr>\n",
       "    <tr>\n",
       "      <th>4</th>\n",
       "      <td>Adelie</td>\n",
       "      <td>Torgersen</td>\n",
       "      <td>193.0</td>\n",
       "      <td>36.7</td>\n",
       "      <td>19.3</td>\n",
       "      <td>3450.0</td>\n",
       "      <td>FEMALE</td>\n",
       "    </tr>\n",
       "  </tbody>\n",
       "</table>\n",
       "</div>"
      ],
      "text/plain": [
       "  species     island  flipper_length_mm  bill_length_mm  bill_depth_mm  \\\n",
       "0  Adelie  Torgersen              181.0            39.1           18.7   \n",
       "1  Adelie  Torgersen              186.0            39.5           17.4   \n",
       "2  Adelie  Torgersen              195.0            40.3           18.0   \n",
       "3  Adelie  Torgersen                NaN             NaN            NaN   \n",
       "4  Adelie  Torgersen              193.0            36.7           19.3   \n",
       "\n",
       "   body_mass_g     sex  \n",
       "0       3750.0    MALE  \n",
       "1       3800.0  FEMALE  \n",
       "2       3250.0  FEMALE  \n",
       "3          NaN     NaN  \n",
       "4       3450.0  FEMALE  "
      ]
     },
     "execution_count": 101,
     "metadata": {},
     "output_type": "execute_result"
    }
   ],
   "source": [
    "species = penguins_df.species.unique().tolist()\n",
    "species_common = [\"Adelie\",\n",
    "                 \"Chinstrap\",\n",
    "                 \"Gentoo\"]\n",
    "penguins_df.loc[:,'species'] = penguins_df.loc[:,'species'].replace(species, species_common)\n",
    "penguins_df.head()"
   ]
  },
  {
   "cell_type": "markdown",
   "id": "f6d0f61a-69d6-4745-88e6-ef59791a9e3b",
   "metadata": {},
   "source": [
    "## Save Cleaned Data"
   ]
  },
  {
   "cell_type": "code",
   "execution_count": 102,
   "id": "402d41c2-4cb3-4019-9249-0e77116c743f",
   "metadata": {
    "tags": []
   },
   "outputs": [],
   "source": [
    "penguins_df.to_csv('../data/cleaned/penguins_cleaned.csv', index=False) "
   ]
  }
 ],
 "metadata": {
  "kernelspec": {
   "display_name": "Python 3 (ipykernel)",
   "language": "python",
   "name": "python3"
  },
  "language_info": {
   "codemirror_mode": {
    "name": "ipython",
    "version": 3
   },
   "file_extension": ".py",
   "mimetype": "text/x-python",
   "name": "python",
   "nbconvert_exporter": "python",
   "pygments_lexer": "ipython3",
   "version": "3.11.5"
  }
 },
 "nbformat": 4,
 "nbformat_minor": 5
}
