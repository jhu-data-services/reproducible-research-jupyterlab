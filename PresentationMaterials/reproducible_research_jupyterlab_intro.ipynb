{
 "cells": [
  {
   "cell_type": "markdown",
   "id": "1bc11cfa-1330-4bdc-81ed-6368e30f8e78",
   "metadata": {
    "tags": []
   },
   "source": [
    "# JupyterLab\n",
    "## A Reproducible Research Integrated Development Environment (IDE)"
   ]
  },
  {
   "cell_type": "markdown",
   "id": "c20f6c4d-1a26-44f3-a67a-ec77c333f5c6",
   "metadata": {},
   "source": [
    "JupyterLab is an interactive environment for prototyping and explaining code, exploring and visualizing data, and sharing ideas with others.\n",
    "\n",
    "![JupyterLab Screenshot](https://jupyterlab.readthedocs.io/en/stable/_images/jupyterlab.png)"
   ]
  },
  {
   "cell_type": "markdown",
   "id": "12ca2545-ead7-4bea-bee6-d8e99de15194",
   "metadata": {},
   "source": [
    "## Literate Programming\n",
    "> \"Literate programming is a methodology that combines a programming language with a documentation language, thereby making programs more robust, more portable, more easily maintained, and arguably more fun to write than programs that are written only in a high-level language. **The main idea is to treat a program as a piece of literature, addressed to human beings rather than to a computer.**\" - Donald Knuth"
   ]
  },
  {
   "cell_type": "markdown",
   "id": "9b7538ac-b223-49b8-a113-faf6e5a4d17a",
   "metadata": {},
   "source": [
    "![Donald Knuth](https://live.staticflickr.com/5243/5347699036_34ca0a00a3_b.jpg)\n",
    "\n",
    "\"Al Alcorn, Donald Knuth and Steve Wozniak\" by vonguard is licensed under CC BY-SA 2.0. "
   ]
  },
  {
   "cell_type": "markdown",
   "id": "e681515d-4382-4e0e-a95e-278865b45dc7",
   "metadata": {},
   "source": [
    "## **Jupyter Notebooks**: Literate Programming in JupyterLab"
   ]
  },
  {
   "cell_type": "markdown",
   "id": "4641db22-d0a1-4164-8285-23bd04301ab2",
   "metadata": {},
   "source": [
    "### **Jupyter Notebooks** are **computational notebooks**\n",
    "\n",
    "A notebook is a shareable document that combines computer code, plain language descriptions, data, rich visualizations like 3D models, charts, graphs and figures, and interactive controls. \n",
    "\n",
    "\n",
    "Source: https://docs.jupyter.org/en/latest/#what-is-a-notebook"
   ]
  }
 ],
 "metadata": {
  "kernelspec": {
   "display_name": "Python 3 (ipykernel)",
   "language": "python",
   "name": "python3"
  },
  "language_info": {
   "codemirror_mode": {
    "name": "ipython",
    "version": 3
   },
   "file_extension": ".py",
   "mimetype": "text/x-python",
   "name": "python",
   "nbconvert_exporter": "python",
   "pygments_lexer": "ipython3",
   "version": "3.11.5"
  }
 },
 "nbformat": 4,
 "nbformat_minor": 5
}
